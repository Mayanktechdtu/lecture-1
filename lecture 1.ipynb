{
 "cells": [
  {
   "cell_type": "code",
   "execution_count": 2,
   "id": "91a1a6af-ef76-4b3a-b0e3-b4aa39b6bcb3",
   "metadata": {},
   "outputs": [
    {
     "data": {
      "text/plain": [
       "68"
      ]
     },
     "execution_count": 2,
     "metadata": {},
     "output_type": "execute_result"
    }
   ],
   "source": [
    "1+67"
   ]
  },
  {
   "cell_type": "code",
   "execution_count": 5,
   "id": "23d4dba3-1a11-47b6-b94c-41d3292ca53a",
   "metadata": {},
   "outputs": [
    {
     "name": "stdout",
     "output_type": "stream",
     "text": [
      "hello mayank\n"
     ]
    }
   ],
   "source": [
    "print(\"hello mayank\")"
   ]
  },
  {
   "cell_type": "code",
   "execution_count": 6,
   "id": "b08eb52b-07cd-49fd-bae1-264c28481f2a",
   "metadata": {},
   "outputs": [
    {
     "name": "stdout",
     "output_type": "stream",
     "text": [
      "123\n"
     ]
    }
   ],
   "source": [
    "a=67\n",
    "b=56\n",
    "print(a+b)"
   ]
  },
  {
   "cell_type": "code",
   "execution_count": 7,
   "id": "ef9701d7-e10b-44f8-a158-106835c1aa17",
   "metadata": {},
   "outputs": [
    {
     "name": "stdout",
     "output_type": "stream",
     "text": [
      "a+b\n"
     ]
    }
   ],
   "source": [
    "print(\"a+b\")"
   ]
  },
  {
   "cell_type": "code",
   "execution_count": 8,
   "id": "c7271598-96cd-4366-978e-9545cac94864",
   "metadata": {},
   "outputs": [
    {
     "name": "stdout",
     "output_type": "stream",
     "text": [
      "67\n"
     ]
    }
   ],
   "source": [
    "print(a)"
   ]
  },
  {
   "cell_type": "code",
   "execution_count": 9,
   "id": "4b810a37-91d2-40bd-9e6d-3c577effda7c",
   "metadata": {},
   "outputs": [
    {
     "name": "stdout",
     "output_type": "stream",
     "text": [
      "mayankayush\n"
     ]
    }
   ],
   "source": [
    "p=\"mayank\"\n",
    "s=\"ayush\"\n",
    "print(p+s)"
   ]
  },
  {
   "cell_type": "code",
   "execution_count": 10,
   "id": "db703194-9848-4482-84f8-d983d03b3b84",
   "metadata": {},
   "outputs": [
    {
     "data": {
      "text/plain": [
       "int"
      ]
     },
     "execution_count": 10,
     "metadata": {},
     "output_type": "execute_result"
    }
   ],
   "source": [
    "type(a)"
   ]
  },
  {
   "cell_type": "code",
   "execution_count": 11,
   "id": "3e6bd44d-8c62-4108-bb3d-4b838a1f4287",
   "metadata": {},
   "outputs": [
    {
     "data": {
      "text/plain": [
       "str"
      ]
     },
     "execution_count": 11,
     "metadata": {},
     "output_type": "execute_result"
    }
   ],
   "source": [
    "type(p)"
   ]
  },
  {
   "cell_type": "code",
   "execution_count": 12,
   "id": "9e6aa74f-77b4-4890-a64f-3dcd52bc42b3",
   "metadata": {},
   "outputs": [
    {
     "data": {
      "text/plain": [
       "float"
      ]
     },
     "execution_count": 12,
     "metadata": {},
     "output_type": "execute_result"
    }
   ],
   "source": [
    "z=78.9\n",
    "type(z)"
   ]
  },
  {
   "cell_type": "code",
   "execution_count": 14,
   "id": "60dbfb5b-8d20-4bf7-b19a-30e458a68091",
   "metadata": {},
   "outputs": [
    {
     "name": "stdout",
     "output_type": "stream",
     "text": [
      "<class 'int'>\n"
     ]
    }
   ],
   "source": [
    "f=98\n",
    "print(type(f))"
   ]
  },
  {
   "cell_type": "code",
   "execution_count": 23,
   "id": "4baed45f-e05d-4fb2-b728-5f2090c291f3",
   "metadata": {},
   "outputs": [
    {
     "data": {
      "text/plain": [
       "bool"
      ]
     },
     "execution_count": 23,
     "metadata": {},
     "output_type": "execute_result"
    }
   ],
   "source": [
    "o=True\n",
    "type(o)"
   ]
  },
  {
   "cell_type": "code",
   "execution_count": 24,
   "id": "7d31090c-4392-4834-b966-a2b882ae95f2",
   "metadata": {},
   "outputs": [
    {
     "data": {
      "text/plain": [
       "1"
      ]
     },
     "execution_count": 24,
     "metadata": {},
     "output_type": "execute_result"
    }
   ],
   "source": [
    "m=False\n",
    "o+m"
   ]
  },
  {
   "cell_type": "code",
   "execution_count": 25,
   "id": "c749b4a0-e9b5-44ee-b4a2-d53a4a181bb9",
   "metadata": {},
   "outputs": [
    {
     "data": {
      "text/plain": [
       "0"
      ]
     },
     "execution_count": 25,
     "metadata": {},
     "output_type": "execute_result"
    }
   ],
   "source": [
    "o*m"
   ]
  },
  {
   "cell_type": "code",
   "execution_count": 26,
   "id": "d940b9c2-b177-4b24-9f4b-cea2b86db351",
   "metadata": {},
   "outputs": [
    {
     "name": "stdout",
     "output_type": "stream",
     "text": [
      "0\n"
     ]
    }
   ],
   "source": [
    "print(o*m)"
   ]
  },
  {
   "cell_type": "code",
   "execution_count": 27,
   "id": "6a42589b-bf7c-462b-8759-ba468ded37c5",
   "metadata": {},
   "outputs": [
    {
     "ename": "ZeroDivisionError",
     "evalue": "division by zero",
     "output_type": "error",
     "traceback": [
      "\u001b[0;31m---------------------------------------------------------------------------\u001b[0m",
      "\u001b[0;31mZeroDivisionError\u001b[0m                         Traceback (most recent call last)",
      "Cell \u001b[0;32mIn[27], line 1\u001b[0m\n\u001b[0;32m----> 1\u001b[0m \u001b[43mo\u001b[49m\u001b[38;5;241;43m/\u001b[39;49m\u001b[43mm\u001b[49m\n",
      "\u001b[0;31mZeroDivisionError\u001b[0m: division by zero"
     ]
    }
   ],
   "source": [
    "o/m"
   ]
  },
  {
   "cell_type": "code",
   "execution_count": 28,
   "id": "74d63c69-6d73-4437-be9c-6d6de70dfd4f",
   "metadata": {},
   "outputs": [
    {
     "data": {
      "text/plain": [
       "0.0"
      ]
     },
     "execution_count": 28,
     "metadata": {},
     "output_type": "execute_result"
    }
   ],
   "source": [
    "m/o"
   ]
  },
  {
   "cell_type": "code",
   "execution_count": 29,
   "id": "f8590cf6-0e12-4a8c-bd2e-157715edfdc7",
   "metadata": {},
   "outputs": [],
   "source": [
    "#true repsent 1 and false is 0"
   ]
  },
  {
   "cell_type": "code",
   "execution_count": 30,
   "id": "950687db-e902-474a-8d43-a1f183c6b8fe",
   "metadata": {},
   "outputs": [
    {
     "data": {
      "text/plain": [
       "complex"
      ]
     },
     "execution_count": 30,
     "metadata": {},
     "output_type": "execute_result"
    }
   ],
   "source": [
    "u=67-7j\n",
    "type(u)"
   ]
  },
  {
   "cell_type": "code",
   "execution_count": 31,
   "id": "f9bb4b5a-6dd3-42f8-be28-33a90fed402c",
   "metadata": {},
   "outputs": [
    {
     "data": {
      "text/plain": [
       "<function complex.conjugate()>"
      ]
     },
     "execution_count": 31,
     "metadata": {},
     "output_type": "execute_result"
    }
   ],
   "source": [
    "u.conjugate"
   ]
  },
  {
   "cell_type": "code",
   "execution_count": 32,
   "id": "765fc7ec-c57a-45c0-acc4-d336acf4bd6b",
   "metadata": {},
   "outputs": [
    {
     "data": {
      "text/plain": [
       "-7.0"
      ]
     },
     "execution_count": 32,
     "metadata": {},
     "output_type": "execute_result"
    }
   ],
   "source": [
    "u.imag"
   ]
  },
  {
   "cell_type": "code",
   "execution_count": 33,
   "id": "9428287f-222c-4d21-aba2-30954e683653",
   "metadata": {},
   "outputs": [
    {
     "data": {
      "text/plain": [
       "67.0"
      ]
     },
     "execution_count": 33,
     "metadata": {},
     "output_type": "execute_result"
    }
   ],
   "source": [
    "u.real"
   ]
  },
  {
   "cell_type": "code",
   "execution_count": 34,
   "id": "948a8549-b6ed-4be1-90be-1a90f6dd38fb",
   "metadata": {},
   "outputs": [],
   "source": [
    "#to find real nd conjugate use . and than press tab"
   ]
  },
  {
   "cell_type": "code",
   "execution_count": 41,
   "id": "0073df28-9fdc-4f7d-810a-e6a23603e083",
   "metadata": {},
   "outputs": [
    {
     "data": {
      "text/plain": [
       "'s'"
      ]
     },
     "execution_count": 41,
     "metadata": {},
     "output_type": "execute_result"
    }
   ],
   "source": [
    "b=\"whalestreet\"\n",
    "b[5] #always in square bracket"
   ]
  },
  {
   "cell_type": "code",
   "execution_count": 38,
   "id": "8a9dcead-7244-4c15-8892-5811a523bf64",
   "metadata": {},
   "outputs": [
    {
     "data": {
      "text/plain": [
       "'whalest'"
      ]
     },
     "execution_count": 38,
     "metadata": {},
     "output_type": "execute_result"
    }
   ],
   "source": [
    "b[0:7]"
   ]
  },
  {
   "cell_type": "code",
   "execution_count": 39,
   "id": "a81f7b98-e0f6-4fcd-99a2-be25d0337f11",
   "metadata": {},
   "outputs": [
    {
     "data": {
      "text/plain": [
       "'whalestreet'"
      ]
     },
     "execution_count": 39,
     "metadata": {},
     "output_type": "execute_result"
    }
   ],
   "source": [
    "b[0:]"
   ]
  },
  {
   "cell_type": "code",
   "execution_count": 40,
   "id": "d3787181-06cf-47fa-b019-8342edb540d8",
   "metadata": {},
   "outputs": [
    {
     "data": {
      "text/plain": [
       "'whalestr'"
      ]
     },
     "execution_count": 40,
     "metadata": {},
     "output_type": "execute_result"
    }
   ],
   "source": [
    "b[:8]"
   ]
  },
  {
   "cell_type": "code",
   "execution_count": 42,
   "id": "037d3a17-4b9d-4af9-b1de-1e33a09121f3",
   "metadata": {},
   "outputs": [
    {
     "data": {
      "text/plain": [
       "''"
      ]
     },
     "execution_count": 42,
     "metadata": {},
     "output_type": "execute_result"
    }
   ],
   "source": [
    "b[-1:-6]"
   ]
  },
  {
   "cell_type": "code",
   "execution_count": 43,
   "id": "ae437c22-4a7f-441a-8a4b-2c2622488c7a",
   "metadata": {},
   "outputs": [
    {
     "data": {
      "text/plain": [
       "'e'"
      ]
     },
     "execution_count": 43,
     "metadata": {},
     "output_type": "execute_result"
    }
   ],
   "source": [
    "b[-2]"
   ]
  },
  {
   "cell_type": "code",
   "execution_count": 44,
   "id": "5b1d5f89-17a7-4f0a-80cb-bd32cc17ef6c",
   "metadata": {},
   "outputs": [
    {
     "data": {
      "text/plain": [
       "'e'"
      ]
     },
     "execution_count": 44,
     "metadata": {},
     "output_type": "execute_result"
    }
   ],
   "source": [
    "b[-7]"
   ]
  },
  {
   "cell_type": "code",
   "execution_count": 45,
   "id": "6b54a026-f678-4ef8-a6a9-c5480ef6bb90",
   "metadata": {},
   "outputs": [
    {
     "data": {
      "text/plain": [
       "'l'"
      ]
     },
     "execution_count": 45,
     "metadata": {},
     "output_type": "execute_result"
    }
   ],
   "source": [
    "b[-8]"
   ]
  },
  {
   "cell_type": "code",
   "execution_count": 49,
   "id": "f0c485f9-ad44-444f-b342-e759020803e5",
   "metadata": {},
   "outputs": [
    {
     "data": {
      "text/plain": [
       "'whalestreet'"
      ]
     },
     "execution_count": 49,
     "metadata": {},
     "output_type": "execute_result"
    }
   ],
   "source": [
    "b[0::1]"
   ]
  },
  {
   "cell_type": "code",
   "execution_count": 47,
   "id": "edffa455-c1cd-4fdb-b659-38c2cf913a22",
   "metadata": {},
   "outputs": [
    {
     "data": {
      "text/plain": [
       "'teertselahw'"
      ]
     },
     "execution_count": 47,
     "metadata": {},
     "output_type": "execute_result"
    }
   ],
   "source": [
    "b[::-1]"
   ]
  },
  {
   "cell_type": "code",
   "execution_count": 51,
   "id": "1ce7fc3e-313c-48ca-b0a5-db9fbcfdbda0",
   "metadata": {},
   "outputs": [
    {
     "data": {
      "text/plain": [
       "''"
      ]
     },
     "execution_count": 51,
     "metadata": {},
     "output_type": "execute_result"
    }
   ],
   "source": [
    "b[0:8:-1] #because direction is opposite skiping is neg.nd dir posituve"
   ]
  },
  {
   "cell_type": "code",
   "execution_count": 53,
   "id": "9e0167c8-66a8-4739-bb6a-88d18c015da3",
   "metadata": {},
   "outputs": [
    {
     "data": {
      "text/plain": [
       "'tete'"
      ]
     },
     "execution_count": 53,
     "metadata": {},
     "output_type": "execute_result"
    }
   ],
   "source": [
    "b[-1:-8:-2]"
   ]
  },
  {
   "cell_type": "code",
   "execution_count": 58,
   "id": "d346b344-6cc3-44ee-9c71-c7dd5984e582",
   "metadata": {},
   "outputs": [
    {
     "data": {
      "text/plain": [
       "'etea'"
      ]
     },
     "execution_count": 58,
     "metadata": {},
     "output_type": "execute_result"
    }
   ],
   "source": [
    "b[8:0:-2] #tis is also correct as we go from 8 to 0 which is neg nd slicing also same neg direction"
   ]
  },
  {
   "cell_type": "code",
   "execution_count": 70,
   "id": "9bc86556-d68a-43c4-bd37-0eda93bc3d52",
   "metadata": {},
   "outputs": [
    {
     "data": {
      "text/plain": [
       "''"
      ]
     },
     "execution_count": 70,
     "metadata": {},
     "output_type": "execute_result"
    }
   ],
   "source": [
    "b[1:-8:-1] #doubt"
   ]
  },
  {
   "cell_type": "code",
   "execution_count": 78,
   "id": "d180929b-9dc5-4a8b-b11b-f77f63de0eab",
   "metadata": {},
   "outputs": [
    {
     "data": {
      "text/plain": [
       "18"
      ]
     },
     "execution_count": 78,
     "metadata": {},
     "output_type": "execute_result"
    }
   ],
   "source": [
    "r=\"mayank you ae best\"\n",
    "len(r)"
   ]
  },
  {
   "cell_type": "code",
   "execution_count": 82,
   "id": "a33c0a16-9bd9-4bfd-8f82-f8a8e033b315",
   "metadata": {},
   "outputs": [
    {
     "data": {
      "text/plain": [
       "1"
      ]
     },
     "execution_count": 82,
     "metadata": {},
     "output_type": "execute_result"
    }
   ],
   "source": [
    "r.find('a') # it finds first index only)"
   ]
  },
  {
   "cell_type": "code",
   "execution_count": 83,
   "id": "d4b4c7cc-0e63-4e1e-b66f-f527d7ec9555",
   "metadata": {},
   "outputs": [
    {
     "data": {
      "text/plain": [
       "2"
      ]
     },
     "execution_count": 83,
     "metadata": {},
     "output_type": "execute_result"
    }
   ],
   "source": [
    "n=\"mayank\"\n",
    "n.find(\"y\")"
   ]
  },
  {
   "cell_type": "code",
   "execution_count": 88,
   "id": "933ef5a5-3534-444e-a06a-04b79756babb",
   "metadata": {},
   "outputs": [
    {
     "data": {
      "text/plain": [
       "3"
      ]
     },
     "execution_count": 88,
     "metadata": {},
     "output_type": "execute_result"
    }
   ],
   "source": [
    "r.count(\"a\") \n",
    "        "
   ]
  },
  {
   "cell_type": "code",
   "execution_count": 90,
   "id": "7a69b2db-a658-4ea0-a054-123a6c5b05d5",
   "metadata": {},
   "outputs": [
    {
     "data": {
      "text/plain": [
       "'Mayank you ae best'"
      ]
     },
     "execution_count": 90,
     "metadata": {},
     "output_type": "execute_result"
    }
   ],
   "source": [
    "r.capitalize()#only firest etter"
   ]
  },
  {
   "cell_type": "code",
   "execution_count": 92,
   "id": "2117a8aa-fbab-4944-a42e-2cfe79e1216e",
   "metadata": {},
   "outputs": [
    {
     "data": {
      "text/plain": [
       "False"
      ]
     },
     "execution_count": 92,
     "metadata": {},
     "output_type": "execute_result"
    }
   ],
   "source": [
    "r.isupper()"
   ]
  },
  {
   "cell_type": "code",
   "execution_count": 94,
   "id": "bf7df445-a375-46d8-b730-8e2f12769edc",
   "metadata": {},
   "outputs": [
    {
     "data": {
      "text/plain": [
       "'Mayank You Ae Best'"
      ]
     },
     "execution_count": 94,
     "metadata": {},
     "output_type": "execute_result"
    }
   ],
   "source": [
    "r.title() #capital all first letter"
   ]
  },
  {
   "cell_type": "code",
   "execution_count": 97,
   "id": "99240db4-3c0e-436d-9966-a40b381345d2",
   "metadata": {},
   "outputs": [
    {
     "data": {
      "text/plain": [
       "'may3'"
      ]
     },
     "execution_count": 97,
     "metadata": {},
     "output_type": "execute_result"
    }
   ],
   "source": [
    "t=\"may\"\n",
    "u=str(3)\n",
    "t+u"
   ]
  },
  {
   "cell_type": "code",
   "execution_count": 100,
   "id": "c867e0b3-f0c2-4297-8d33-4a2d285ce186",
   "metadata": {},
   "outputs": [
    {
     "ename": "TypeError",
     "evalue": "can only concatenate str (not \"int\") to str",
     "output_type": "error",
     "traceback": [
      "\u001b[0;31m---------------------------------------------------------------------------\u001b[0m",
      "\u001b[0;31mTypeError\u001b[0m                                 Traceback (most recent call last)",
      "Cell \u001b[0;32mIn[100], line 3\u001b[0m\n\u001b[1;32m      1\u001b[0m t\u001b[38;5;241m=\u001b[39m\u001b[38;5;124m\"\u001b[39m\u001b[38;5;124mmay\u001b[39m\u001b[38;5;124m\"\u001b[39m\n\u001b[1;32m      2\u001b[0m u\u001b[38;5;241m=\u001b[39m\u001b[38;5;241m3\u001b[39m\n\u001b[0;32m----> 3\u001b[0m \u001b[43mt\u001b[49m\u001b[38;5;241;43m+\u001b[39;49m\u001b[43mu\u001b[49m\n",
      "\u001b[0;31mTypeError\u001b[0m: can only concatenate str (not \"int\") to str"
     ]
    }
   ],
   "source": [
    "t=\"may\"\n",
    "u=3\n",
    "t+u"
   ]
  },
  {
   "cell_type": "code",
   "execution_count": 98,
   "id": "2ecf00e0-b3a2-4ebf-b17d-9ccc63d3a677",
   "metadata": {},
   "outputs": [
    {
     "data": {
      "text/plain": [
       "'may3'"
      ]
     },
     "execution_count": 98,
     "metadata": {},
     "output_type": "execute_result"
    }
   ],
   "source": [
    "t=\"may\"\n",
    "u=\"3\"\n",
    "t+u"
   ]
  },
  {
   "cell_type": "code",
   "execution_count": 101,
   "id": "c6e43181-a63c-4f0e-bbb9-42d42e354e49",
   "metadata": {},
   "outputs": [
    {
     "data": {
      "text/plain": [
       "'maymaymay'"
      ]
     },
     "execution_count": 101,
     "metadata": {},
     "output_type": "execute_result"
    }
   ],
   "source": [
    "t*3 #it will print 3 times string"
   ]
  },
  {
   "cell_type": "code",
   "execution_count": null,
   "id": "debc8a0a-ba3a-40e8-892e-e9ed745834d2",
   "metadata": {},
   "outputs": [],
   "source": []
  }
 ],
 "metadata": {
  "kernelspec": {
   "display_name": "Python 3 (ipykernel)",
   "language": "python",
   "name": "python3"
  },
  "language_info": {
   "codemirror_mode": {
    "name": "ipython",
    "version": 3
   },
   "file_extension": ".py",
   "mimetype": "text/x-python",
   "name": "python",
   "nbconvert_exporter": "python",
   "pygments_lexer": "ipython3",
   "version": "3.10.8"
  }
 },
 "nbformat": 4,
 "nbformat_minor": 5
}
